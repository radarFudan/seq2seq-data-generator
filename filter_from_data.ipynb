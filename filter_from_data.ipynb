{
 "cells": [
  {
   "cell_type": "code",
   "execution_count": 16,
   "metadata": {},
   "outputs": [],
   "source": [
    "import numpy as np\n",
    "from libs.lfgenerator import TwoPart, Exponential, Shift\n",
    "import matplotlib.pyplot as plt"
   ]
  },
  {
   "cell_type": "code",
   "execution_count": 17,
   "metadata": {},
   "outputs": [],
   "source": [
    "g=np.array([1,2,3,4])\n",
    "h=np.array([5,4,6,7])\n",
    "\n",
    "l = np.convolve(np.hstack((g[1:], g)),h, 'valid')\n",
    "r = np.fft.ifft(np.fft.fft(g)*np.fft.fft(h))\n"
   ]
  },
  {
   "cell_type": "code",
   "execution_count": 45,
   "metadata": {},
   "outputs": [],
   "source": [
    "def get_rho(x,y):\n",
    "    length = x.shape[1]\n",
    "    dim=x.shape[2]\n",
    "    rho = []\n",
    "\n",
    "    for j in range(dim):\n",
    "        x_j = x[:,:,j]\n",
    "        y_j = y[:,:,0]\n",
    "        X = np.fft.fft(x_j, axis=1)\n",
    "        Y = np.fft.fft(y_j, axis=1)\n",
    "        Rho = []\n",
    "        for i in range(length):\n",
    "            r = np.linalg.lstsq(X[:,[i]],Y[:,[i]])[0].item()\n",
    "            # r = ((X[:,[i]].T@Y[:,[i]]) / (X[:,[i]].T @ X[:,[i]]))[0,0]\n",
    "            Rho.append(r)\n",
    "        Rho = np.array(Rho)\n",
    "        Rho = np.fft.ifft(Rho)\n",
    "        rho.append(Rho)\n",
    "    return np.array(rho)"
   ]
  },
  {
   "cell_type": "code",
   "execution_count": 46,
   "metadata": {},
   "outputs": [],
   "source": [
    "path_length = 64\n",
    "\n",
    "# x,y = TwoPart({'centers': [[1.5, 4]],'sigmas':[[4, 4]],'path_len':path_length,'data_num':400000}).generate()\n",
    "# x,y = Exponential({'lambda':[0.5],'path_len':path_length,'data_num':10000}).generate()\n",
    "x,y = Shift({'input_dim':2, 'shift': [30,14], 'data_num':100000, 'path_len':path_length}).generate()\n",
    "\n"
   ]
  },
  {
   "cell_type": "code",
   "execution_count": 47,
   "metadata": {},
   "outputs": [
    {
     "name": "stderr",
     "output_type": "stream",
     "text": [
      "/tmp/ipykernel_126833/312903095.py:13: FutureWarning: `rcond` parameter will change to the default of machine precision times ``max(M, N)`` where M and N are the input matrix dimensions.\n",
      "To use the future default and silence this warning we advise to pass `rcond=None`, to keep using the old, explicitly pass `rcond=-1`.\n",
      "  r = np.linalg.lstsq(X[:,[i]],Y[:,[i]])[0].item()\n"
     ]
    },
    {
     "data": {
      "text/plain": [
       "[<matplotlib.lines.Line2D at 0x7f61423191e0>]"
      ]
     },
     "execution_count": 47,
     "metadata": {},
     "output_type": "execute_result"
    },
    {
     "data": {
      "image/png": "[encoded data removed]",
      "text/plain": [
       "<Figure size 432x288 with 1 Axes>"
      ]
     },
     "metadata": {
      "needs_background": "light"
     },
     "output_type": "display_data"
    }
   ],
   "source": [
    "plt.plot(get_rho(x,y)[0])"
   ]
  },
  {
   "cell_type": "code",
   "execution_count": 21,
   "metadata": {},
   "outputs": [],
   "source": [
    "from dataprepare_tcw.tcw_generator import dataset_generator\n",
    "data = np.load(\"dataprepare_tcw/tcw_1980_2022.npy\")\n",
    "train, test = dataset_generator(\n",
    "        data, length=100, train_test_ratio=0.7, sliding_window=True\n",
    "    )\n",
    "T = 90\n",
    "x = train[:, :T, :]\n",
    "y = train[:, -T:, :]"
   ]
  },
  {
   "cell_type": "code",
   "execution_count": 23,
   "metadata": {},
   "outputs": [
    {
     "name": "stderr",
     "output_type": "stream",
     "text": [
      "/tmp/ipykernel_126833/1330200663.py:13: FutureWarning: `rcond` parameter will change to the default of machine precision times ``max(M, N)`` where M and N are the input matrix dimensions.\n",
      "To use the future default and silence this warning we advise to pass `rcond=None`, to keep using the old, explicitly pass `rcond=-1`.\n",
      "  r = np.linalg.lstsq(X[:,[i]],Y[:,[i]])[0].item()\n"
     ]
    },
    {
     "data": {
      "text/plain": [
       "[<matplotlib.lines.Line2D at 0x7f61420d5c30>]"
      ]
     },
     "execution_count": 23,
     "metadata": {},
     "output_type": "execute_result"
    },
    {
     "data": {
      "image/png": "[encoded data removed]",
      "text/plain": [
       "<Figure size 432x288 with 1 Axes>"
      ]
     },
     "metadata": {
      "needs_background": "light"
     },
     "output_type": "display_data"
    }
   ],
   "source": [
    "plt.plot(get_rho(x,y)[0])"
   ]
  },
  {
   "cell_type": "code",
   "execution_count": 24,
   "metadata": {},
   "outputs": [],
   "source": [
    "x_j = x[:,:,0]\n",
    "y_j = y[:,:,0]\n",
    "X = np.fft.fft(x_j, axis=1)\n",
    "Y = np.fft.fft(y_j, axis=1)"
   ]
  },
  {
   "cell_type": "code",
   "execution_count": 51,
   "metadata": {},
   "outputs": [
    {
     "name": "stderr",
     "output_type": "stream",
     "text": [
      "/tmp/ipykernel_126833/2119804018.py:1: FutureWarning: `rcond` parameter will change to the default of machine precision times ``max(M, N)`` where M and N are the input matrix dimensions.\n",
      "To use the future default and silence this warning we advise to pass `rcond=None`, to keep using the old, explicitly pass `rcond=-1`.\n",
      "  np.linalg.lstsq(X[:,[1]],Y[:,[1]])[0]\n"
     ]
    },
    {
     "data": {
      "text/plain": [
       "array([[0.80050645+0.46183093j]])"
      ]
     },
     "execution_count": 51,
     "metadata": {},
     "output_type": "execute_result"
    }
   ],
   "source": [
    "np.linalg.lstsq(X[:,[1]],Y[:,[1]])[0]"
   ]
  },
  {
   "cell_type": "code",
   "execution_count": 52,
   "metadata": {},
   "outputs": [
    {
     "data": {
      "text/plain": [
       "array([[1.11237393+8.51971016e-05j]])"
      ]
     },
     "execution_count": 52,
     "metadata": {},
     "output_type": "execute_result"
    }
   ],
   "source": [
    "(X[:,[1]].T@Y[:,[1]]) / (X[:,[1]].T @ X[:,[1]])"
   ]
  }
 ],
 "metadata": {
  "kernelspec": {
   "display_name": "env1",
   "language": "python",
   "name": "python3"
  },
  "language_info": {
   "codemirror_mode": {
    "name": "ipython",
    "version": 3
   },
   "file_extension": ".py",
   "mimetype": "text/x-python",
   "name": "python",
   "nbconvert_exporter": "python",
   "pygments_lexer": "ipython3",
   "version": "3.10.10"
  },
  "orig_nbformat": 4
 },
 "nbformat": 4,
 "nbformat_minor": 2
}
